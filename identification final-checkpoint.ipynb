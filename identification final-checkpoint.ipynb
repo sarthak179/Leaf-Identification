{
 "cells": [
  {
   "cell_type": "code",
   "execution_count": 1,
   "metadata": {},
   "outputs": [],
   "source": [
    "import numpy as np\n",
    "import pandas as pd\n",
    "import os\n",
    "import string"
   ]
  },
  {
   "cell_type": "code",
   "execution_count": 2,
   "metadata": {},
   "outputs": [],
   "source": [
    "dataset = pd.read_csv(\"train_features.csv\")"
   ]
  },
  {
   "cell_type": "code",
   "execution_count": 3,
   "metadata": {},
   "outputs": [
    {
     "data": {
      "text/plain": [
       "pandas.core.frame.DataFrame"
      ]
     },
     "execution_count": 3,
     "metadata": {},
     "output_type": "execute_result"
    }
   ],
   "source": [
    "type(dataset)"
   ]
  },
  {
   "cell_type": "code",
   "execution_count": 4,
   "metadata": {},
   "outputs": [],
   "source": [
    "#dataset = dataset.sample(frac=1).reset_index(drop=True)"
   ]
  },
  {
   "cell_type": "code",
   "execution_count": 5,
   "metadata": {},
   "outputs": [
    {
     "data": {
      "text/html": [
       "<div>\n",
       "<style scoped>\n",
       "    .dataframe tbody tr th:only-of-type {\n",
       "        vertical-align: middle;\n",
       "    }\n",
       "\n",
       "    .dataframe tbody tr th {\n",
       "        vertical-align: top;\n",
       "    }\n",
       "\n",
       "    .dataframe thead th {\n",
       "        text-align: right;\n",
       "    }\n",
       "</style>\n",
       "<table border=\"1\" class=\"dataframe\">\n",
       "  <thead>\n",
       "    <tr style=\"text-align: right;\">\n",
       "      <th></th>\n",
       "      <th>Unnamed: 0</th>\n",
       "      <th>area</th>\n",
       "      <th>perimeter</th>\n",
       "      <th>physiological_length</th>\n",
       "      <th>physiological_width</th>\n",
       "      <th>aspect_ratio</th>\n",
       "      <th>rectangularity</th>\n",
       "      <th>circularity</th>\n",
       "      <th>mean_r</th>\n",
       "      <th>mean_g</th>\n",
       "      <th>mean_b</th>\n",
       "      <th>stddev_r</th>\n",
       "      <th>stddev_g</th>\n",
       "      <th>stddev_b</th>\n",
       "      <th>contrast</th>\n",
       "      <th>correlation</th>\n",
       "      <th>inverse_difference_moments</th>\n",
       "      <th>entropy</th>\n",
       "    </tr>\n",
       "  </thead>\n",
       "  <tbody>\n",
       "    <tr>\n",
       "      <th>0</th>\n",
       "      <td>0</td>\n",
       "      <td>197484.0</td>\n",
       "      <td>3479.036038</td>\n",
       "      <td>1416</td>\n",
       "      <td>759</td>\n",
       "      <td>1.865613</td>\n",
       "      <td>5.442183</td>\n",
       "      <td>61.289480</td>\n",
       "      <td>6.395667</td>\n",
       "      <td>13.643413</td>\n",
       "      <td>4.388007</td>\n",
       "      <td>24.025329</td>\n",
       "      <td>40.200931</td>\n",
       "      <td>21.448412</td>\n",
       "      <td>12.639656</td>\n",
       "      <td>0.997666</td>\n",
       "      <td>0.911738</td>\n",
       "      <td>1.688689</td>\n",
       "    </tr>\n",
       "    <tr>\n",
       "      <th>1</th>\n",
       "      <td>0</td>\n",
       "      <td>101248.0</td>\n",
       "      <td>2490.381812</td>\n",
       "      <td>1190</td>\n",
       "      <td>130</td>\n",
       "      <td>9.153846</td>\n",
       "      <td>1.527931</td>\n",
       "      <td>61.255546</td>\n",
       "      <td>7.049316</td>\n",
       "      <td>9.232018</td>\n",
       "      <td>10.876066</td>\n",
       "      <td>33.816205</td>\n",
       "      <td>37.382221</td>\n",
       "      <td>46.479230</td>\n",
       "      <td>8.137424</td>\n",
       "      <td>0.997191</td>\n",
       "      <td>0.944818</td>\n",
       "      <td>1.193795</td>\n",
       "    </tr>\n",
       "    <tr>\n",
       "      <th>2</th>\n",
       "      <td>0</td>\n",
       "      <td>86570.5</td>\n",
       "      <td>2290.683327</td>\n",
       "      <td>1095</td>\n",
       "      <td>119</td>\n",
       "      <td>9.201681</td>\n",
       "      <td>1.505189</td>\n",
       "      <td>60.612219</td>\n",
       "      <td>3.434303</td>\n",
       "      <td>6.371511</td>\n",
       "      <td>2.644757</td>\n",
       "      <td>19.975699</td>\n",
       "      <td>29.057374</td>\n",
       "      <td>19.275050</td>\n",
       "      <td>8.553729</td>\n",
       "      <td>0.996610</td>\n",
       "      <td>0.959023</td>\n",
       "      <td>0.848758</td>\n",
       "    </tr>\n",
       "    <tr>\n",
       "      <th>3</th>\n",
       "      <td>0</td>\n",
       "      <td>190214.0</td>\n",
       "      <td>2856.479353</td>\n",
       "      <td>1318</td>\n",
       "      <td>254</td>\n",
       "      <td>5.188976</td>\n",
       "      <td>1.759976</td>\n",
       "      <td>42.896287</td>\n",
       "      <td>7.670415</td>\n",
       "      <td>13.303599</td>\n",
       "      <td>6.049157</td>\n",
       "      <td>28.822885</td>\n",
       "      <td>40.221845</td>\n",
       "      <td>26.948604</td>\n",
       "      <td>8.440041</td>\n",
       "      <td>0.998419</td>\n",
       "      <td>0.914331</td>\n",
       "      <td>1.673915</td>\n",
       "    </tr>\n",
       "    <tr>\n",
       "      <th>4</th>\n",
       "      <td>0</td>\n",
       "      <td>227727.0</td>\n",
       "      <td>2917.248904</td>\n",
       "      <td>1324</td>\n",
       "      <td>286</td>\n",
       "      <td>4.629371</td>\n",
       "      <td>1.662798</td>\n",
       "      <td>37.370804</td>\n",
       "      <td>8.992028</td>\n",
       "      <td>16.671171</td>\n",
       "      <td>6.294281</td>\n",
       "      <td>30.967158</td>\n",
       "      <td>45.040192</td>\n",
       "      <td>28.595326</td>\n",
       "      <td>8.641438</td>\n",
       "      <td>0.998568</td>\n",
       "      <td>0.898644</td>\n",
       "      <td>1.968082</td>\n",
       "    </tr>\n",
       "  </tbody>\n",
       "</table>\n",
       "</div>"
      ],
      "text/plain": [
       "   Unnamed: 0      area    perimeter  physiological_length  \\\n",
       "0           0  197484.0  3479.036038                  1416   \n",
       "1           0  101248.0  2490.381812                  1190   \n",
       "2           0   86570.5  2290.683327                  1095   \n",
       "3           0  190214.0  2856.479353                  1318   \n",
       "4           0  227727.0  2917.248904                  1324   \n",
       "\n",
       "   physiological_width  aspect_ratio  rectangularity  circularity    mean_r  \\\n",
       "0                  759      1.865613        5.442183    61.289480  6.395667   \n",
       "1                  130      9.153846        1.527931    61.255546  7.049316   \n",
       "2                  119      9.201681        1.505189    60.612219  3.434303   \n",
       "3                  254      5.188976        1.759976    42.896287  7.670415   \n",
       "4                  286      4.629371        1.662798    37.370804  8.992028   \n",
       "\n",
       "      mean_g     mean_b   stddev_r   stddev_g   stddev_b   contrast  \\\n",
       "0  13.643413   4.388007  24.025329  40.200931  21.448412  12.639656   \n",
       "1   9.232018  10.876066  33.816205  37.382221  46.479230   8.137424   \n",
       "2   6.371511   2.644757  19.975699  29.057374  19.275050   8.553729   \n",
       "3  13.303599   6.049157  28.822885  40.221845  26.948604   8.440041   \n",
       "4  16.671171   6.294281  30.967158  45.040192  28.595326   8.641438   \n",
       "\n",
       "   correlation  inverse_difference_moments   entropy  \n",
       "0     0.997666                    0.911738  1.688689  \n",
       "1     0.997191                    0.944818  1.193795  \n",
       "2     0.996610                    0.959023  0.848758  \n",
       "3     0.998419                    0.914331  1.673915  \n",
       "4     0.998568                    0.898644  1.968082  "
      ]
     },
     "execution_count": 5,
     "metadata": {},
     "output_type": "execute_result"
    }
   ],
   "source": [
    "dataset.head(5)"
   ]
  },
  {
   "cell_type": "code",
   "execution_count": 6,
   "metadata": {},
   "outputs": [],
   "source": [
    "maindir = r\"C:/Users/Lenovo/Desktop/leaf identification\"\n",
    "ds_path = maindir + \"//Leaves\"\n",
    "img_files = os.listdir(ds_path)"
   ]
  },
  {
   "cell_type": "code",
   "execution_count": 7,
   "metadata": {},
   "outputs": [],
   "source": [
    "breakpoints = [1001,1059,1060,1122,1552,1616,1123,1194,1195,1267,1268,1323,1324,1385,1386,1437,1497,1551,1438,1496,2001,2050,2051,2113,2114,2165,2166,2230,2231,2290,2291,2346,2347,2423,2424,2485,2486,2546,2547,2612,2616,2675,3001,3055,3056,3110,3111,3175,3176,3229,3230,3281,3282,3334,3335,3389,3390,3446,3447,3510,3511,3563,3566,3621]"
   ]
  },
  {
   "cell_type": "code",
   "execution_count": 8,
   "metadata": {},
   "outputs": [],
   "source": [
    "target_list = []\n",
    "for file in img_files:\n",
    "    target_num = int(file.split(\".\")[0])\n",
    "    flag = 0\n",
    "    i = 0 \n",
    "    for i in range(0,len(breakpoints),2):\n",
    "        if((target_num >= breakpoints[i]) and (target_num <= breakpoints[i+1])):\n",
    "            flag = 1\n",
    "            break\n",
    "    if(flag==1):\n",
    "        target = int((i/2))\n",
    "        target_list.append(target)"
   ]
  },
  {
   "cell_type": "code",
   "execution_count": 9,
   "metadata": {},
   "outputs": [
    {
     "data": {
      "text/plain": [
       "array([ 0,  0,  0, ..., 31, 31, 31])"
      ]
     },
     "execution_count": 9,
     "metadata": {},
     "output_type": "execute_result"
    }
   ],
   "source": [
    "y = np.array(target_list)\n",
    "y"
   ]
  },
  {
   "cell_type": "code",
   "execution_count": 10,
   "metadata": {},
   "outputs": [],
   "source": [
    "X = dataset.iloc[:,1:]"
   ]
  },
  {
   "cell_type": "code",
   "execution_count": 11,
   "metadata": {},
   "outputs": [
    {
     "data": {
      "text/html": [
       "<div>\n",
       "<style scoped>\n",
       "    .dataframe tbody tr th:only-of-type {\n",
       "        vertical-align: middle;\n",
       "    }\n",
       "\n",
       "    .dataframe tbody tr th {\n",
       "        vertical-align: top;\n",
       "    }\n",
       "\n",
       "    .dataframe thead th {\n",
       "        text-align: right;\n",
       "    }\n",
       "</style>\n",
       "<table border=\"1\" class=\"dataframe\">\n",
       "  <thead>\n",
       "    <tr style=\"text-align: right;\">\n",
       "      <th></th>\n",
       "      <th>area</th>\n",
       "      <th>perimeter</th>\n",
       "      <th>physiological_length</th>\n",
       "      <th>physiological_width</th>\n",
       "      <th>aspect_ratio</th>\n",
       "      <th>rectangularity</th>\n",
       "      <th>circularity</th>\n",
       "      <th>mean_r</th>\n",
       "      <th>mean_g</th>\n",
       "      <th>mean_b</th>\n",
       "      <th>stddev_r</th>\n",
       "      <th>stddev_g</th>\n",
       "      <th>stddev_b</th>\n",
       "      <th>contrast</th>\n",
       "      <th>correlation</th>\n",
       "      <th>inverse_difference_moments</th>\n",
       "      <th>entropy</th>\n",
       "    </tr>\n",
       "  </thead>\n",
       "  <tbody>\n",
       "    <tr>\n",
       "      <th>0</th>\n",
       "      <td>197484.0</td>\n",
       "      <td>3479.036038</td>\n",
       "      <td>1416</td>\n",
       "      <td>759</td>\n",
       "      <td>1.865613</td>\n",
       "      <td>5.442183</td>\n",
       "      <td>61.289480</td>\n",
       "      <td>6.395667</td>\n",
       "      <td>13.643413</td>\n",
       "      <td>4.388007</td>\n",
       "      <td>24.025329</td>\n",
       "      <td>40.200931</td>\n",
       "      <td>21.448412</td>\n",
       "      <td>12.639656</td>\n",
       "      <td>0.997666</td>\n",
       "      <td>0.911738</td>\n",
       "      <td>1.688689</td>\n",
       "    </tr>\n",
       "    <tr>\n",
       "      <th>1</th>\n",
       "      <td>101248.0</td>\n",
       "      <td>2490.381812</td>\n",
       "      <td>1190</td>\n",
       "      <td>130</td>\n",
       "      <td>9.153846</td>\n",
       "      <td>1.527931</td>\n",
       "      <td>61.255546</td>\n",
       "      <td>7.049316</td>\n",
       "      <td>9.232018</td>\n",
       "      <td>10.876066</td>\n",
       "      <td>33.816205</td>\n",
       "      <td>37.382221</td>\n",
       "      <td>46.479230</td>\n",
       "      <td>8.137424</td>\n",
       "      <td>0.997191</td>\n",
       "      <td>0.944818</td>\n",
       "      <td>1.193795</td>\n",
       "    </tr>\n",
       "    <tr>\n",
       "      <th>2</th>\n",
       "      <td>86570.5</td>\n",
       "      <td>2290.683327</td>\n",
       "      <td>1095</td>\n",
       "      <td>119</td>\n",
       "      <td>9.201681</td>\n",
       "      <td>1.505189</td>\n",
       "      <td>60.612219</td>\n",
       "      <td>3.434303</td>\n",
       "      <td>6.371511</td>\n",
       "      <td>2.644757</td>\n",
       "      <td>19.975699</td>\n",
       "      <td>29.057374</td>\n",
       "      <td>19.275050</td>\n",
       "      <td>8.553729</td>\n",
       "      <td>0.996610</td>\n",
       "      <td>0.959023</td>\n",
       "      <td>0.848758</td>\n",
       "    </tr>\n",
       "    <tr>\n",
       "      <th>3</th>\n",
       "      <td>190214.0</td>\n",
       "      <td>2856.479353</td>\n",
       "      <td>1318</td>\n",
       "      <td>254</td>\n",
       "      <td>5.188976</td>\n",
       "      <td>1.759976</td>\n",
       "      <td>42.896287</td>\n",
       "      <td>7.670415</td>\n",
       "      <td>13.303599</td>\n",
       "      <td>6.049157</td>\n",
       "      <td>28.822885</td>\n",
       "      <td>40.221845</td>\n",
       "      <td>26.948604</td>\n",
       "      <td>8.440041</td>\n",
       "      <td>0.998419</td>\n",
       "      <td>0.914331</td>\n",
       "      <td>1.673915</td>\n",
       "    </tr>\n",
       "    <tr>\n",
       "      <th>4</th>\n",
       "      <td>227727.0</td>\n",
       "      <td>2917.248904</td>\n",
       "      <td>1324</td>\n",
       "      <td>286</td>\n",
       "      <td>4.629371</td>\n",
       "      <td>1.662798</td>\n",
       "      <td>37.370804</td>\n",
       "      <td>8.992028</td>\n",
       "      <td>16.671171</td>\n",
       "      <td>6.294281</td>\n",
       "      <td>30.967158</td>\n",
       "      <td>45.040192</td>\n",
       "      <td>28.595326</td>\n",
       "      <td>8.641438</td>\n",
       "      <td>0.998568</td>\n",
       "      <td>0.898644</td>\n",
       "      <td>1.968082</td>\n",
       "    </tr>\n",
       "  </tbody>\n",
       "</table>\n",
       "</div>"
      ],
      "text/plain": [
       "       area    perimeter  physiological_length  physiological_width  \\\n",
       "0  197484.0  3479.036038                  1416                  759   \n",
       "1  101248.0  2490.381812                  1190                  130   \n",
       "2   86570.5  2290.683327                  1095                  119   \n",
       "3  190214.0  2856.479353                  1318                  254   \n",
       "4  227727.0  2917.248904                  1324                  286   \n",
       "\n",
       "   aspect_ratio  rectangularity  circularity    mean_r     mean_g     mean_b  \\\n",
       "0      1.865613        5.442183    61.289480  6.395667  13.643413   4.388007   \n",
       "1      9.153846        1.527931    61.255546  7.049316   9.232018  10.876066   \n",
       "2      9.201681        1.505189    60.612219  3.434303   6.371511   2.644757   \n",
       "3      5.188976        1.759976    42.896287  7.670415  13.303599   6.049157   \n",
       "4      4.629371        1.662798    37.370804  8.992028  16.671171   6.294281   \n",
       "\n",
       "    stddev_r   stddev_g   stddev_b   contrast  correlation  \\\n",
       "0  24.025329  40.200931  21.448412  12.639656     0.997666   \n",
       "1  33.816205  37.382221  46.479230   8.137424     0.997191   \n",
       "2  19.975699  29.057374  19.275050   8.553729     0.996610   \n",
       "3  28.822885  40.221845  26.948604   8.440041     0.998419   \n",
       "4  30.967158  45.040192  28.595326   8.641438     0.998568   \n",
       "\n",
       "   inverse_difference_moments   entropy  \n",
       "0                    0.911738  1.688689  \n",
       "1                    0.944818  1.193795  \n",
       "2                    0.959023  0.848758  \n",
       "3                    0.914331  1.673915  \n",
       "4                    0.898644  1.968082  "
      ]
     },
     "execution_count": 11,
     "metadata": {},
     "output_type": "execute_result"
    }
   ],
   "source": [
    "X.head()"
   ]
  },
  {
   "cell_type": "code",
   "execution_count": 12,
   "metadata": {},
   "outputs": [
    {
     "data": {
      "text/plain": [
       "array([0, 0, 0, 0, 0])"
      ]
     },
     "execution_count": 12,
     "metadata": {},
     "output_type": "execute_result"
    }
   ],
   "source": [
    "y[0:5]"
   ]
  },
  {
   "cell_type": "code",
   "execution_count": 13,
   "metadata": {},
   "outputs": [],
   "source": [
    "from sklearn.model_selection import train_test_split"
   ]
  },
  {
   "cell_type": "code",
   "execution_count": 14,
   "metadata": {},
   "outputs": [],
   "source": [
    "X_train, X_test, y_train, y_test = train_test_split(X, y, test_size=0.3, random_state = 142)"
   ]
  },
  {
   "cell_type": "code",
   "execution_count": 15,
   "metadata": {},
   "outputs": [
    {
     "data": {
      "text/html": [
       "<div>\n",
       "<style scoped>\n",
       "    .dataframe tbody tr th:only-of-type {\n",
       "        vertical-align: middle;\n",
       "    }\n",
       "\n",
       "    .dataframe tbody tr th {\n",
       "        vertical-align: top;\n",
       "    }\n",
       "\n",
       "    .dataframe thead th {\n",
       "        text-align: right;\n",
       "    }\n",
       "</style>\n",
       "<table border=\"1\" class=\"dataframe\">\n",
       "  <thead>\n",
       "    <tr style=\"text-align: right;\">\n",
       "      <th></th>\n",
       "      <th>area</th>\n",
       "      <th>perimeter</th>\n",
       "      <th>physiological_length</th>\n",
       "      <th>physiological_width</th>\n",
       "      <th>aspect_ratio</th>\n",
       "      <th>rectangularity</th>\n",
       "      <th>circularity</th>\n",
       "      <th>mean_r</th>\n",
       "      <th>mean_g</th>\n",
       "      <th>mean_b</th>\n",
       "      <th>stddev_r</th>\n",
       "      <th>stddev_g</th>\n",
       "      <th>stddev_b</th>\n",
       "      <th>contrast</th>\n",
       "      <th>correlation</th>\n",
       "      <th>inverse_difference_moments</th>\n",
       "      <th>entropy</th>\n",
       "    </tr>\n",
       "  </thead>\n",
       "  <tbody>\n",
       "    <tr>\n",
       "      <th>147</th>\n",
       "      <td>816496.5</td>\n",
       "      <td>3599.018794</td>\n",
       "      <td>1101</td>\n",
       "      <td>1083</td>\n",
       "      <td>1.016620</td>\n",
       "      <td>1.460365</td>\n",
       "      <td>15.864044</td>\n",
       "      <td>36.740296</td>\n",
       "      <td>70.312576</td>\n",
       "      <td>25.082371</td>\n",
       "      <td>45.407495</td>\n",
       "      <td>81.167757</td>\n",
       "      <td>34.334657</td>\n",
       "      <td>22.519541</td>\n",
       "      <td>0.997333</td>\n",
       "      <td>0.649635</td>\n",
       "      <td>5.610553</td>\n",
       "    </tr>\n",
       "    <tr>\n",
       "      <th>837</th>\n",
       "      <td>921134.0</td>\n",
       "      <td>4097.732429</td>\n",
       "      <td>1377</td>\n",
       "      <td>1038</td>\n",
       "      <td>1.326590</td>\n",
       "      <td>1.551703</td>\n",
       "      <td>18.229064</td>\n",
       "      <td>34.696545</td>\n",
       "      <td>64.961098</td>\n",
       "      <td>23.699098</td>\n",
       "      <td>46.639467</td>\n",
       "      <td>69.345675</td>\n",
       "      <td>35.581559</td>\n",
       "      <td>92.360837</td>\n",
       "      <td>0.992630</td>\n",
       "      <td>0.560696</td>\n",
       "      <td>7.248010</td>\n",
       "    </tr>\n",
       "    <tr>\n",
       "      <th>358</th>\n",
       "      <td>552379.0</td>\n",
       "      <td>3850.814822</td>\n",
       "      <td>1398</td>\n",
       "      <td>1049</td>\n",
       "      <td>1.332698</td>\n",
       "      <td>2.654884</td>\n",
       "      <td>26.845291</td>\n",
       "      <td>29.863131</td>\n",
       "      <td>49.430173</td>\n",
       "      <td>23.717367</td>\n",
       "      <td>48.482326</td>\n",
       "      <td>77.065204</td>\n",
       "      <td>39.447077</td>\n",
       "      <td>23.181824</td>\n",
       "      <td>0.996204</td>\n",
       "      <td>0.751559</td>\n",
       "      <td>4.221778</td>\n",
       "    </tr>\n",
       "    <tr>\n",
       "      <th>962</th>\n",
       "      <td>38454.5</td>\n",
       "      <td>3035.410698</td>\n",
       "      <td>1176</td>\n",
       "      <td>822</td>\n",
       "      <td>1.430657</td>\n",
       "      <td>25.138072</td>\n",
       "      <td>239.600518</td>\n",
       "      <td>4.282973</td>\n",
       "      <td>5.213604</td>\n",
       "      <td>4.262034</td>\n",
       "      <td>27.772276</td>\n",
       "      <td>30.832106</td>\n",
       "      <td>28.934080</td>\n",
       "      <td>6.313081</td>\n",
       "      <td>0.993080</td>\n",
       "      <td>0.971889</td>\n",
       "      <td>0.634766</td>\n",
       "    </tr>\n",
       "    <tr>\n",
       "      <th>1101</th>\n",
       "      <td>941172.0</td>\n",
       "      <td>3719.580197</td>\n",
       "      <td>1303</td>\n",
       "      <td>987</td>\n",
       "      <td>1.320162</td>\n",
       "      <td>1.366446</td>\n",
       "      <td>14.700051</td>\n",
       "      <td>43.594426</td>\n",
       "      <td>72.467561</td>\n",
       "      <td>32.378145</td>\n",
       "      <td>47.408525</td>\n",
       "      <td>73.463707</td>\n",
       "      <td>37.026025</td>\n",
       "      <td>11.663863</td>\n",
       "      <td>0.998818</td>\n",
       "      <td>0.635070</td>\n",
       "      <td>6.042620</td>\n",
       "    </tr>\n",
       "  </tbody>\n",
       "</table>\n",
       "</div>"
      ],
      "text/plain": [
       "          area    perimeter  physiological_length  physiological_width  \\\n",
       "147   816496.5  3599.018794                  1101                 1083   \n",
       "837   921134.0  4097.732429                  1377                 1038   \n",
       "358   552379.0  3850.814822                  1398                 1049   \n",
       "962    38454.5  3035.410698                  1176                  822   \n",
       "1101  941172.0  3719.580197                  1303                  987   \n",
       "\n",
       "      aspect_ratio  rectangularity  circularity     mean_r     mean_g  \\\n",
       "147       1.016620        1.460365    15.864044  36.740296  70.312576   \n",
       "837       1.326590        1.551703    18.229064  34.696545  64.961098   \n",
       "358       1.332698        2.654884    26.845291  29.863131  49.430173   \n",
       "962       1.430657       25.138072   239.600518   4.282973   5.213604   \n",
       "1101      1.320162        1.366446    14.700051  43.594426  72.467561   \n",
       "\n",
       "         mean_b   stddev_r   stddev_g   stddev_b   contrast  correlation  \\\n",
       "147   25.082371  45.407495  81.167757  34.334657  22.519541     0.997333   \n",
       "837   23.699098  46.639467  69.345675  35.581559  92.360837     0.992630   \n",
       "358   23.717367  48.482326  77.065204  39.447077  23.181824     0.996204   \n",
       "962    4.262034  27.772276  30.832106  28.934080   6.313081     0.993080   \n",
       "1101  32.378145  47.408525  73.463707  37.026025  11.663863     0.998818   \n",
       "\n",
       "      inverse_difference_moments   entropy  \n",
       "147                     0.649635  5.610553  \n",
       "837                     0.560696  7.248010  \n",
       "358                     0.751559  4.221778  \n",
       "962                     0.971889  0.634766  \n",
       "1101                    0.635070  6.042620  "
      ]
     },
     "execution_count": 15,
     "metadata": {},
     "output_type": "execute_result"
    }
   ],
   "source": [
    "X_train.head(5)"
   ]
  },
  {
   "cell_type": "code",
   "execution_count": 16,
   "metadata": {},
   "outputs": [
    {
     "data": {
      "text/plain": [
       "array([ 3, 13,  6, 16, 18])"
      ]
     },
     "execution_count": 16,
     "metadata": {},
     "output_type": "execute_result"
    }
   ],
   "source": [
    "y_train[0:5]"
   ]
  },
  {
   "cell_type": "code",
   "execution_count": 17,
   "metadata": {},
   "outputs": [],
   "source": [
    "from sklearn.preprocessing import StandardScaler"
   ]
  },
  {
   "cell_type": "code",
   "execution_count": null,
   "metadata": {},
   "outputs": [],
   "source": []
  },
  {
   "cell_type": "code",
   "execution_count": 18,
   "metadata": {},
   "outputs": [
    {
     "name": "stderr",
     "output_type": "stream",
     "text": [
      "C:\\Users\\Lenovo\\Anaconda3\\envs\\Tensorflow\\lib\\site-packages\\sklearn\\preprocessing\\data.py:617: DataConversionWarning: Data with input dtype int64, float64 were all converted to float64 by StandardScaler.\n",
      "  return self.partial_fit(X, y)\n",
      "C:\\Users\\Lenovo\\Anaconda3\\envs\\Tensorflow\\lib\\site-packages\\sklearn\\base.py:462: DataConversionWarning: Data with input dtype int64, float64 were all converted to float64 by StandardScaler.\n",
      "  return self.fit(X, **fit_params).transform(X)\n",
      "C:\\Users\\Lenovo\\Anaconda3\\envs\\Tensorflow\\lib\\site-packages\\ipykernel_launcher.py:3: DataConversionWarning: Data with input dtype int64, float64 were all converted to float64 by StandardScaler.\n",
      "  This is separate from the ipykernel package so we can avoid doing imports until\n"
     ]
    }
   ],
   "source": [
    "sc_X = StandardScaler()\n",
    "X_train = sc_X.fit_transform(X_train)\n",
    "X_test = sc_X.transform(X_test)"
   ]
  },
  {
   "cell_type": "code",
   "execution_count": 19,
   "metadata": {},
   "outputs": [
    {
     "data": {
      "text/plain": [
       "array([[ 0.83193194, -0.17692354, -0.90777284,  0.86491733, -0.9528451 ,\n",
       "        -0.33789936, -0.42611353,  0.01198242,  0.22801441, -0.06515913,\n",
       "        -0.03038517,  0.66513894, -0.17255204, -0.17456558,  0.27446021,\n",
       "        -0.97141035,  0.72845056],\n",
       "       [ 1.22949109,  0.46823763,  0.25932835,  0.67383324, -0.45412004,\n",
       "        -0.31773828, -0.37146523, -0.04156278,  0.10823179, -0.10299271,\n",
       "         0.04545738, -0.01454148, -0.11043539,  2.3536019 , -1.92405659,\n",
       "        -1.86068666,  1.74156049]])"
      ]
     },
     "execution_count": 19,
     "metadata": {},
     "output_type": "execute_result"
    }
   ],
   "source": [
    "X_train[0:2]"
   ]
  },
  {
   "cell_type": "code",
   "execution_count": 20,
   "metadata": {},
   "outputs": [
    {
     "data": {
      "text/plain": [
       "array([ 3, 13,  6, 16])"
      ]
     },
     "execution_count": 20,
     "metadata": {},
     "output_type": "execute_result"
    }
   ],
   "source": [
    "y_train[0:4]"
   ]
  },
  {
   "cell_type": "code",
   "execution_count": 21,
   "metadata": {},
   "outputs": [],
   "source": [
    "from sklearn import svm"
   ]
  },
  {
   "cell_type": "code",
   "execution_count": 22,
   "metadata": {},
   "outputs": [
    {
     "data": {
      "text/plain": [
       "SVC(C=1.0, cache_size=200, class_weight=None, coef0=0.0,\n",
       "  decision_function_shape='ovr', degree=3, gamma='auto_deprecated',\n",
       "  kernel='rbf', max_iter=-1, probability=False, random_state=None,\n",
       "  shrinking=True, tol=0.001, verbose=False)"
      ]
     },
     "execution_count": 22,
     "metadata": {},
     "output_type": "execute_result"
    }
   ],
   "source": [
    "clf = svm.SVC()\n",
    "clf.fit(X_train,y_train)"
   ]
  },
  {
   "cell_type": "code",
   "execution_count": 23,
   "metadata": {},
   "outputs": [],
   "source": [
    "import pickle\n",
    "file = open('svm_classifier.pkl' , 'wb')\n",
    "pickle.dump(clf , file)\n",
    "clk = pickle.load(open('svm_classifier.pkl' , 'rb')  )"
   ]
  },
  {
   "cell_type": "code",
   "execution_count": 24,
   "metadata": {},
   "outputs": [
    {
     "data": {
      "text/plain": [
       "array([20, 31, 13, 20, 30,  1,  3, 23, 21,  3, 27, 18, 24, 28,  4,  9, 22,\n",
       "       23,  4, 28,  6, 17,  1, 29,  6, 29, 27,  4,  3,  9, 21, 19, 27, 18,\n",
       "        5,  3,  4, 26,  5,  9, 10,  4, 20,  3, 12, 18, 19, 27,  6, 27, 20,\n",
       "       31, 20, 10, 22,  2, 18, 11, 14,  3, 19, 27, 19, 18,  3,  8, 26, 20,\n",
       "        6,  7,  2,  6, 11, 31, 16, 31, 21, 17, 16, 19, 30,  4,  4, 21,  6,\n",
       "        5, 25, 16, 22,  1, 16, 24, 23,  6,  4,  7, 31, 29,  3, 13, 19, 26,\n",
       "       25, 12, 23, 16, 12, 12, 18,  8,  1, 24,  3, 18,  9, 14,  0, 16, 23,\n",
       "       28, 20,  4, 31,  8, 31, 10, 21, 15,  2, 17, 22, 27, 26, 14,  9, 22,\n",
       "       10,  1, 27, 28, 24,  4, 25, 28, 23,  3,  5, 23, 24, 21,  5, 20, 15,\n",
       "        2,  2, 28,  4, 18, 20, 13, 10,  5,  3, 22, 20,  1,  4, 29, 28, 14,\n",
       "       13, 18, 22,  5, 24,  3,  9,  8, 31, 31, 26,  3, 17,  3,  3,  8,  4,\n",
       "       16, 20, 17, 25, 10, 24, 23, 15,  0,  3, 18,  7,  7,  6, 27,  6, 19,\n",
       "       18,  4, 25, 20, 22, 23,  6,  9,  1, 29, 13, 30, 23, 29, 12, 23,  1,\n",
       "        6,  6,  4, 29, 24, 18, 21, 31, 27, 27, 10,  6, 13,  9, 22,  5,  3,\n",
       "       29, 20,  8,  5, 21,  1, 26, 12,  2, 23, 12, 16, 11, 12,  5,  7,  9,\n",
       "       16,  2, 31,  2, 29, 10, 31, 16,  2, 10, 16, 10, 18,  4,  6,  2, 18,\n",
       "        9, 10, 26, 10,  4,  7, 28,  3, 17, 12, 31, 16,  5,  3, 30, 31, 16,\n",
       "       19, 12, 23, 19,  7, 12, 14,  2,  1, 17, 12, 19, 21, 10, 12, 15, 20,\n",
       "        2,  4, 17,  1,  6, 27, 13, 21, 21,  8, 10, 10,  0, 26,  1,  4,  6,\n",
       "        6, 25, 21, 17,  2, 31, 14, 23, 29, 25, 19, 24, 16, 27, 30,  7, 11,\n",
       "       13, 28, 21, 16, 10,  7, 25, 16, 17, 20, 22, 22,  0, 28, 11, 21, 12,\n",
       "       18, 30, 13,  1,  5, 29,  2, 10, 14, 13, 16, 10,  9, 19, 23,  3,  6,\n",
       "        1, 17,  6,  8,  3, 26,  6,  3, 31, 17, 14,  3, 28,  1, 10, 21, 27,\n",
       "       27, 26, 12, 13, 28, 20,  8, 23, 19, 12, 12, 13, 10, 26,  4,  4, 29,\n",
       "       29,  1,  3, 18,  9, 24,  8,  8, 31, 12, 24,  4,  3,  2,  4,  8, 29,\n",
       "       15,  3,  8, 15,  5, 28, 27, 25, 30,  1, 13,  5, 12, 21, 25,  2, 18,\n",
       "       16, 29, 20,  6, 30, 11, 24, 10, 20,  3,  8,  1, 21,  6, 29, 10, 30,\n",
       "        3,  6,  9,  2, 15, 26,  1, 10, 19, 11, 31, 13, 14, 20,  4, 15,  2,\n",
       "       27, 12, 13, 13,  2,  5,  6, 23,  7,  5, 26, 16, 13, 27, 19,  0,  2,\n",
       "       21,  6, 16,  4, 10, 19, 10,  3, 17,  8, 28, 14,  9, 29, 29, 12, 29,\n",
       "       21, 27,  5, 12, 23, 26, 28, 17, 22, 13, 20,  2,  0, 25, 10,  3,  7,\n",
       "       22, 17, 23, 16, 25, 11, 15, 23, 16,  8,  7, 12, 12,  6,  3, 21, 16,\n",
       "       17,  9, 11, 27, 11, 21, 17, 16, 17, 11,  5, 27, 27, 30, 18,  3, 16,\n",
       "       31, 29, 11, 31, 19,  8,  1, 20, 16, 30, 28, 26])"
      ]
     },
     "execution_count": 24,
     "metadata": {},
     "output_type": "execute_result"
    }
   ],
   "source": [
    "y_pred = clk.predict(X_test)\n",
    "y_pred"
   ]
  },
  {
   "cell_type": "code",
   "execution_count": 25,
   "metadata": {},
   "outputs": [],
   "source": [
    "from sklearn import metrics"
   ]
  },
  {
   "cell_type": "code",
   "execution_count": 26,
   "metadata": {},
   "outputs": [
    {
     "data": {
      "text/plain": [
       "0.7975567190226877"
      ]
     },
     "execution_count": 26,
     "metadata": {},
     "output_type": "execute_result"
    }
   ],
   "source": [
    "metrics.accuracy_score(y_test, y_pred)"
   ]
  },
  {
   "cell_type": "code",
   "execution_count": 27,
   "metadata": {},
   "outputs": [
    {
     "name": "stdout",
     "output_type": "stream",
     "text": [
      "              precision    recall  f1-score   support\n",
      "\n",
      "           0       0.83      0.28      0.42        18\n",
      "           1       0.65      0.72      0.68        18\n",
      "           2       0.90      0.86      0.88        22\n",
      "           3       0.81      0.96      0.88        27\n",
      "           4       0.96      1.00      0.98        24\n",
      "           5       0.89      1.00      0.94        16\n",
      "           6       0.73      0.95      0.83        20\n",
      "           7       0.83      0.71      0.77        14\n",
      "           8       0.35      0.50      0.41        12\n",
      "           9       0.93      0.93      0.93        15\n",
      "          10       0.65      0.94      0.77        18\n",
      "          11       0.92      0.61      0.73        18\n",
      "          12       0.58      0.78      0.67        18\n",
      "          13       0.94      0.71      0.81        24\n",
      "          14       0.60      0.46      0.52        13\n",
      "          15       0.44      0.22      0.30        18\n",
      "          16       1.00      1.00      1.00        26\n",
      "          17       0.94      1.00      0.97        17\n",
      "          18       0.94      0.81      0.87        21\n",
      "          19       0.82      0.93      0.87        15\n",
      "          20       0.62      0.93      0.74        14\n",
      "          21       0.62      0.87      0.72        15\n",
      "          22       1.00      0.93      0.96        14\n",
      "          23       0.70      0.88      0.78        16\n",
      "          24       0.92      0.69      0.79        16\n",
      "          25       0.75      0.69      0.72        13\n",
      "          26       0.93      0.93      0.93        15\n",
      "          27       0.86      0.86      0.86        22\n",
      "          28       0.62      0.71      0.67        14\n",
      "          29       0.85      0.81      0.83        21\n",
      "          30       0.91      0.67      0.77        15\n",
      "          31       0.95      0.79      0.86        24\n",
      "\n",
      "   micro avg       0.80      0.80      0.80       573\n",
      "   macro avg       0.80      0.79      0.78       573\n",
      "weighted avg       0.81      0.80      0.79       573\n",
      "\n"
     ]
    }
   ],
   "source": [
    "print(metrics.classification_report(y_test, y_pred))"
   ]
  },
  {
   "cell_type": "code",
   "execution_count": 28,
   "metadata": {},
   "outputs": [],
   "source": [
    "from sklearn.model_selection import GridSearchCV"
   ]
  },
  {
   "cell_type": "code",
   "execution_count": 29,
   "metadata": {},
   "outputs": [],
   "source": [
    "parameters = [{'kernel': ['rbf'],\n",
    "               'gamma': [1e-4, 1e-3, 0.01, 0.1, 0.2, 0.5],\n",
    "               'C': [1, 10, 100, 1000]},\n",
    "              {'kernel': ['linear'], 'C': [1, 10, 100, 1000]}\n",
    "             ]"
   ]
  },
  {
   "cell_type": "code",
   "execution_count": 30,
   "metadata": {},
   "outputs": [
    {
     "name": "stderr",
     "output_type": "stream",
     "text": [
      "C:\\Users\\Lenovo\\Anaconda3\\envs\\Tensorflow\\lib\\site-packages\\sklearn\\model_selection\\_search.py:841: DeprecationWarning: The default of the `iid` parameter will change from True to False in version 0.22 and will be removed in 0.24. This will change numeric results when test-set sizes are unequal.\n",
      "  DeprecationWarning)\n"
     ]
    },
    {
     "data": {
      "text/plain": [
       "GridSearchCV(cv=5, error_score='raise-deprecating',\n",
       "       estimator=SVC(C=1.0, cache_size=200, class_weight=None, coef0=0.0,\n",
       "  decision_function_shape='ovr', degree=3, gamma='auto_deprecated',\n",
       "  kernel='rbf', max_iter=-1, probability=False, random_state=None,\n",
       "  shrinking=True, tol=0.001, verbose=False),\n",
       "       fit_params=None, iid='warn', n_jobs=None,\n",
       "       param_grid=[{'kernel': ['rbf'], 'gamma': [0.0001, 0.001, 0.01, 0.1, 0.2, 0.5], 'C': [1, 10, 100, 1000]}, {'kernel': ['linear'], 'C': [1, 10, 100, 1000]}],\n",
       "       pre_dispatch='2*n_jobs', refit=True, return_train_score='warn',\n",
       "       scoring=None, verbose=0)"
      ]
     },
     "execution_count": 30,
     "metadata": {},
     "output_type": "execute_result"
    }
   ],
   "source": [
    "svm_clf = GridSearchCV(svm.SVC(decision_function_shape='ovr'), parameters, cv=5)\n",
    "svm_clf.fit(X_train, y_train)"
   ]
  },
  {
   "cell_type": "code",
   "execution_count": 31,
   "metadata": {},
   "outputs": [
    {
     "data": {
      "text/plain": [
       "{'C': 100, 'kernel': 'linear'}"
      ]
     },
     "execution_count": 31,
     "metadata": {},
     "output_type": "execute_result"
    }
   ],
   "source": [
    "svm_clf.best_params_"
   ]
  },
  {
   "cell_type": "code",
   "execution_count": 32,
   "metadata": {},
   "outputs": [
    {
     "name": "stdout",
     "output_type": "stream",
     "text": [
      "0.076 (+/-0.005) for {'C': 1, 'gamma': 0.0001, 'kernel': 'rbf'}\n",
      "0.198 (+/-0.023) for {'C': 1, 'gamma': 0.001, 'kernel': 'rbf'}\n",
      "0.603 (+/-0.061) for {'C': 1, 'gamma': 0.01, 'kernel': 'rbf'}\n",
      "0.833 (+/-0.048) for {'C': 1, 'gamma': 0.1, 'kernel': 'rbf'}\n",
      "0.843 (+/-0.039) for {'C': 1, 'gamma': 0.2, 'kernel': 'rbf'}\n",
      "0.859 (+/-0.035) for {'C': 1, 'gamma': 0.5, 'kernel': 'rbf'}\n",
      "0.199 (+/-0.021) for {'C': 10, 'gamma': 0.0001, 'kernel': 'rbf'}\n",
      "0.602 (+/-0.067) for {'C': 10, 'gamma': 0.001, 'kernel': 'rbf'}\n",
      "0.839 (+/-0.035) for {'C': 10, 'gamma': 0.01, 'kernel': 'rbf'}\n",
      "0.888 (+/-0.027) for {'C': 10, 'gamma': 0.1, 'kernel': 'rbf'}\n",
      "0.882 (+/-0.014) for {'C': 10, 'gamma': 0.2, 'kernel': 'rbf'}\n",
      "0.872 (+/-0.017) for {'C': 10, 'gamma': 0.5, 'kernel': 'rbf'}\n",
      "0.599 (+/-0.068) for {'C': 100, 'gamma': 0.0001, 'kernel': 'rbf'}\n",
      "0.841 (+/-0.043) for {'C': 100, 'gamma': 0.001, 'kernel': 'rbf'}\n",
      "0.891 (+/-0.027) for {'C': 100, 'gamma': 0.01, 'kernel': 'rbf'}\n",
      "0.888 (+/-0.008) for {'C': 100, 'gamma': 0.1, 'kernel': 'rbf'}\n",
      "0.875 (+/-0.012) for {'C': 100, 'gamma': 0.2, 'kernel': 'rbf'}\n",
      "0.874 (+/-0.018) for {'C': 100, 'gamma': 0.5, 'kernel': 'rbf'}\n",
      "0.843 (+/-0.043) for {'C': 1000, 'gamma': 0.0001, 'kernel': 'rbf'}\n",
      "0.891 (+/-0.024) for {'C': 1000, 'gamma': 0.001, 'kernel': 'rbf'}\n",
      "0.903 (+/-0.013) for {'C': 1000, 'gamma': 0.01, 'kernel': 'rbf'}\n",
      "0.888 (+/-0.022) for {'C': 1000, 'gamma': 0.1, 'kernel': 'rbf'}\n",
      "0.877 (+/-0.015) for {'C': 1000, 'gamma': 0.2, 'kernel': 'rbf'}\n",
      "0.875 (+/-0.020) for {'C': 1000, 'gamma': 0.5, 'kernel': 'rbf'}\n",
      "0.873 (+/-0.036) for {'C': 1, 'kernel': 'linear'}\n",
      "0.896 (+/-0.015) for {'C': 10, 'kernel': 'linear'}\n",
      "0.904 (+/-0.016) for {'C': 100, 'kernel': 'linear'}\n",
      "0.903 (+/-0.027) for {'C': 1000, 'kernel': 'linear'}\n"
     ]
    }
   ],
   "source": [
    "means = svm_clf.cv_results_['mean_test_score']\n",
    "stds = svm_clf.cv_results_['std_test_score']\n",
    "for mean, std, params in zip(means, stds, svm_clf.cv_results_['params']):\n",
    "    print(\"%0.3f (+/-%0.03f) for %r\" % (mean, std * 2, params))"
   ]
  },
  {
   "cell_type": "code",
   "execution_count": 33,
   "metadata": {},
   "outputs": [],
   "source": [
    "y_pred_svm = svm_clf.predict(X_test)"
   ]
  },
  {
   "cell_type": "code",
   "execution_count": 34,
   "metadata": {},
   "outputs": [
    {
     "data": {
      "text/plain": [
       "0.900523560209424"
      ]
     },
     "execution_count": 34,
     "metadata": {},
     "output_type": "execute_result"
    }
   ],
   "source": [
    "metrics.accuracy_score(y_test, y_pred_svm)"
   ]
  },
  {
   "cell_type": "code",
   "execution_count": 35,
   "metadata": {},
   "outputs": [
    {
     "name": "stdout",
     "output_type": "stream",
     "text": [
      "              precision    recall  f1-score   support\n",
      "\n",
      "           0       0.93      0.78      0.85        18\n",
      "           1       0.82      0.78      0.80        18\n",
      "           2       1.00      0.91      0.95        22\n",
      "           3       0.93      0.96      0.95        27\n",
      "           4       1.00      1.00      1.00        24\n",
      "           5       0.94      1.00      0.97        16\n",
      "           6       0.73      0.95      0.83        20\n",
      "           7       0.87      0.93      0.90        14\n",
      "           8       0.54      0.58      0.56        12\n",
      "           9       1.00      1.00      1.00        15\n",
      "          10       0.94      0.89      0.91        18\n",
      "          11       0.72      0.72      0.72        18\n",
      "          12       0.94      0.89      0.91        18\n",
      "          13       0.81      0.88      0.84        24\n",
      "          14       0.92      0.85      0.88        13\n",
      "          15       0.81      0.72      0.76        18\n",
      "          16       1.00      1.00      1.00        26\n",
      "          17       0.94      1.00      0.97        17\n",
      "          18       0.88      1.00      0.93        21\n",
      "          19       0.88      0.93      0.90        15\n",
      "          20       1.00      1.00      1.00        14\n",
      "          21       0.88      1.00      0.94        15\n",
      "          22       1.00      1.00      1.00        14\n",
      "          23       0.84      1.00      0.91        16\n",
      "          24       0.93      0.81      0.87        16\n",
      "          25       0.90      0.69      0.78        13\n",
      "          26       0.94      1.00      0.97        15\n",
      "          27       1.00      0.86      0.93        22\n",
      "          28       0.93      0.93      0.93        14\n",
      "          29       0.90      0.90      0.90        21\n",
      "          30       0.92      0.73      0.81        15\n",
      "          31       0.96      0.92      0.94        24\n",
      "\n",
      "   micro avg       0.90      0.90      0.90       573\n",
      "   macro avg       0.90      0.89      0.89       573\n",
      "weighted avg       0.90      0.90      0.90       573\n",
      "\n"
     ]
    }
   ],
   "source": [
    "print(metrics.classification_report(y_test, y_pred_svm))"
   ]
  },
  {
   "cell_type": "code",
   "execution_count": 36,
   "metadata": {},
   "outputs": [],
   "source": [
    "from sklearn.decomposition import PCA"
   ]
  },
  {
   "cell_type": "code",
   "execution_count": 37,
   "metadata": {},
   "outputs": [],
   "source": [
    "pca = PCA()"
   ]
  },
  {
   "cell_type": "code",
   "execution_count": 38,
   "metadata": {},
   "outputs": [
    {
     "data": {
      "text/plain": [
       "PCA(copy=True, iterated_power='auto', n_components=None, random_state=None,\n",
       "  svd_solver='auto', tol=0.0, whiten=False)"
      ]
     },
     "execution_count": 38,
     "metadata": {},
     "output_type": "execute_result"
    }
   ],
   "source": [
    "pca.fit(X)"
   ]
  },
  {
   "cell_type": "code",
   "execution_count": 39,
   "metadata": {},
   "outputs": [
    {
     "data": {
      "text/plain": [
       "array([9.99992897e-01, 6.41437090e-06, 3.92824604e-07, 2.08042089e-07,\n",
       "       6.15523003e-08, 1.38782112e-08, 8.94933517e-09, 2.51990661e-09,\n",
       "       8.66436344e-10, 2.10139777e-10, 1.07067134e-10, 1.32410443e-11,\n",
       "       2.22566990e-12, 1.41983597e-12, 5.16456140e-13, 3.39145462e-15,\n",
       "       1.00669706e-17])"
      ]
     },
     "execution_count": 39,
     "metadata": {},
     "output_type": "execute_result"
    }
   ],
   "source": [
    "var= pca.explained_variance_ratio_\n",
    "var"
   ]
  },
  {
   "cell_type": "code",
   "execution_count": 40,
   "metadata": {},
   "outputs": [],
   "source": [
    "import matplotlib.pyplot as plt\n",
    "%matplotlib inline"
   ]
  },
  {
   "cell_type": "code",
   "execution_count": 41,
   "metadata": {},
   "outputs": [
    {
     "data": {
      "text/plain": [
       "[<matplotlib.lines.Line2D at 0x79e75eec18>]"
      ]
     },
     "execution_count": 41,
     "metadata": {},
     "output_type": "execute_result"
    },
    {
     "data": {
      "image/png": "[encoded data removed]",
      "text/plain": [
       "<Figure size 432x288 with 1 Axes>"
      ]
     },
     "metadata": {
      "needs_background": "light"
     },
     "output_type": "display_data"
    }
   ],
   "source": [
    "var1=np.cumsum(np.round(pca.explained_variance_ratio_, decimals=4)*100)\n",
    "plt.plot(var1)"
   ]
  },
  {
   "cell_type": "code",
   "execution_count": null,
   "metadata": {},
   "outputs": [],
   "source": []
  }
 ],
 "metadata": {
  "kernelspec": {
   "display_name": "Python 3",
   "language": "python",
   "name": "python3"
  },
  "language_info": {
   "codemirror_mode": {
    "name": "ipython",
    "version": 3
   },
   "file_extension": ".py",
   "mimetype": "text/x-python",
   "name": "python",
   "nbconvert_exporter": "python",
   "pygments_lexer": "ipython3",
   "version": "3.6.6"
  }
 },
 "nbformat": 4,
 "nbformat_minor": 2
}
